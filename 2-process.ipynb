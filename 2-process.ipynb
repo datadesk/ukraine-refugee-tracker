{
 "cells": [
  {
   "cell_type": "code",
   "execution_count": 1,
   "id": "4605968c-3cc8-4e5d-9080-6bfd9f540b5f",
   "metadata": {},
   "outputs": [],
   "source": [
    "import pandas as pd"
   ]
  },
  {
   "cell_type": "code",
   "execution_count": 2,
   "id": "a830ad0d-b975-43b9-b54e-ec6b4cf54de2",
   "metadata": {},
   "outputs": [],
   "source": [
    "df = pd.read_csv(\"raw/latest.csv\", parse_dates=[\"date\",\"download_date\"])"
   ]
  },
  {
   "cell_type": "code",
   "execution_count": 3,
   "id": "39f7e455-ebf4-4589-aa48-d35443ac0e66",
   "metadata": {},
   "outputs": [
    {
     "data": {
      "text/html": [
       "<div>\n",
       "<style scoped>\n",
       "    .dataframe tbody tr th:only-of-type {\n",
       "        vertical-align: middle;\n",
       "    }\n",
       "\n",
       "    .dataframe tbody tr th {\n",
       "        vertical-align: top;\n",
       "    }\n",
       "\n",
       "    .dataframe thead th {\n",
       "        text-align: right;\n",
       "    }\n",
       "</style>\n",
       "<table border=\"1\" class=\"dataframe\">\n",
       "  <thead>\n",
       "    <tr style=\"text-align: right;\">\n",
       "      <th></th>\n",
       "      <th>country</th>\n",
       "      <th>lon</th>\n",
       "      <th>lat</th>\n",
       "      <th>date</th>\n",
       "      <th>refugees</th>\n",
       "      <th>download_date</th>\n",
       "    </tr>\n",
       "  </thead>\n",
       "  <tbody>\n",
       "    <tr>\n",
       "      <th>0</th>\n",
       "      <td>Poland</td>\n",
       "      <td>19.401300</td>\n",
       "      <td>52.122400</td>\n",
       "      <td>2022-03-06</td>\n",
       "      <td>1027603</td>\n",
       "      <td>2022-03-07</td>\n",
       "    </tr>\n",
       "    <tr>\n",
       "      <th>1</th>\n",
       "      <td>Other European countries</td>\n",
       "      <td>12.999542</td>\n",
       "      <td>49.284735</td>\n",
       "      <td>2022-03-06</td>\n",
       "      <td>183688</td>\n",
       "      <td>2022-03-07</td>\n",
       "    </tr>\n",
       "    <tr>\n",
       "      <th>2</th>\n",
       "      <td>Hungary</td>\n",
       "      <td>19.413100</td>\n",
       "      <td>47.167200</td>\n",
       "      <td>2022-03-06</td>\n",
       "      <td>180163</td>\n",
       "      <td>2022-03-07</td>\n",
       "    </tr>\n",
       "    <tr>\n",
       "      <th>3</th>\n",
       "      <td>Slovakia</td>\n",
       "      <td>19.486400</td>\n",
       "      <td>48.706200</td>\n",
       "      <td>2022-03-06</td>\n",
       "      <td>128169</td>\n",
       "      <td>2022-03-07</td>\n",
       "    </tr>\n",
       "    <tr>\n",
       "      <th>4</th>\n",
       "      <td>Republic of Moldova</td>\n",
       "      <td>28.464600</td>\n",
       "      <td>47.197600</td>\n",
       "      <td>2022-03-06</td>\n",
       "      <td>82762</td>\n",
       "      <td>2022-03-07</td>\n",
       "    </tr>\n",
       "    <tr>\n",
       "      <th>5</th>\n",
       "      <td>Romania</td>\n",
       "      <td>25.300000</td>\n",
       "      <td>45.866700</td>\n",
       "      <td>2022-03-06</td>\n",
       "      <td>78977</td>\n",
       "      <td>2022-03-07</td>\n",
       "    </tr>\n",
       "    <tr>\n",
       "      <th>6</th>\n",
       "      <td>Russian Federation</td>\n",
       "      <td>38.155608</td>\n",
       "      <td>51.488850</td>\n",
       "      <td>2022-03-03</td>\n",
       "      <td>53300</td>\n",
       "      <td>2022-03-07</td>\n",
       "    </tr>\n",
       "    <tr>\n",
       "      <th>7</th>\n",
       "      <td>Belarus</td>\n",
       "      <td>28.046300</td>\n",
       "      <td>53.538400</td>\n",
       "      <td>2022-03-04</td>\n",
       "      <td>406</td>\n",
       "      <td>2022-03-07</td>\n",
       "    </tr>\n",
       "  </tbody>\n",
       "</table>\n",
       "</div>"
      ],
      "text/plain": [
       "                    country        lon        lat       date  refugees  \\\n",
       "0                    Poland  19.401300  52.122400 2022-03-06   1027603   \n",
       "1  Other European countries  12.999542  49.284735 2022-03-06    183688   \n",
       "2                   Hungary  19.413100  47.167200 2022-03-06    180163   \n",
       "3                  Slovakia  19.486400  48.706200 2022-03-06    128169   \n",
       "4       Republic of Moldova  28.464600  47.197600 2022-03-06     82762   \n",
       "5                   Romania  25.300000  45.866700 2022-03-06     78977   \n",
       "6        Russian Federation  38.155608  51.488850 2022-03-03     53300   \n",
       "7                   Belarus  28.046300  53.538400 2022-03-04       406   \n",
       "\n",
       "  download_date  \n",
       "0    2022-03-07  \n",
       "1    2022-03-07  \n",
       "2    2022-03-07  \n",
       "3    2022-03-07  \n",
       "4    2022-03-07  \n",
       "5    2022-03-07  \n",
       "6    2022-03-07  \n",
       "7    2022-03-07  "
      ]
     },
     "execution_count": 3,
     "metadata": {},
     "output_type": "execute_result"
    }
   ],
   "source": [
    "df"
   ]
  },
  {
   "cell_type": "markdown",
   "id": "80c9f6b1-03c5-4985-a8ee-eacce0625b5c",
   "metadata": {},
   "source": [
    "### If refugee count smaller than 1,000, add to 'Other European countries' category"
   ]
  },
  {
   "cell_type": "code",
   "execution_count": 4,
   "id": "1f192bc0-7246-4de9-9584-f1a0ac9e45f3",
   "metadata": {},
   "outputs": [],
   "source": [
    "df[\"under_1000\"] = \"\"\n",
    "df.loc[df.refugees > 1000, \"under_1000\"] = True\n",
    "df.loc[df.refugees < 1000, \"under_1000\"] = False"
   ]
  },
  {
   "cell_type": "code",
   "execution_count": 6,
   "id": "96a1fc1f-a3d3-4e11-8447-096d463d0bff",
   "metadata": {},
   "outputs": [],
   "source": [
    "countries_under_1000_total = df[df.under_1000 == False].refugees.sum()"
   ]
  },
  {
   "cell_type": "code",
   "execution_count": 7,
   "id": "3c9928da-6e09-42c6-b429-5785f846bfda",
   "metadata": {},
   "outputs": [],
   "source": [
    "other_total = df[df.country == \"Other European countries\"].refugees.sum()"
   ]
  },
  {
   "cell_type": "code",
   "execution_count": 8,
   "id": "43c70bdf-22cb-4902-aa94-b24470f5c405",
   "metadata": {},
   "outputs": [],
   "source": [
    "all_countries = df[(df.under_1000 == True) & (df.country != \"Other European countries\")]"
   ]
  },
  {
   "cell_type": "code",
   "execution_count": 10,
   "id": "3bd48618-f777-4e08-bc30-080a374d06ca",
   "metadata": {},
   "outputs": [],
   "source": [
    "other = {\n",
    "    'country': 'Other European countries', \n",
    "    'date': df[df.country == \"Other European countries\"].iloc[0][\"date\"],\n",
    "    'refugees': countries_under_1000_total+other_total,\n",
    "    'download_date': df[df.country == \"Other European countries\"].iloc[0][\"download_date\"],\n",
    "}"
   ]
  },
  {
   "cell_type": "code",
   "execution_count": 11,
   "id": "6d7f3b45-c2c8-4941-8f23-36d2abfb6698",
   "metadata": {},
   "outputs": [
    {
     "name": "stderr",
     "output_type": "stream",
     "text": [
      "/var/folders/7p/v902smb50m50mm_swb_lj1rh0000gn/T/ipykernel_29589/2094115918.py:1: FutureWarning: The frame.append method is deprecated and will be removed from pandas in a future version. Use pandas.concat instead.\n",
      "  all_countries = all_countries.append(other, ignore_index = True)\n"
     ]
    }
   ],
   "source": [
    "all_countries = all_countries.append(other, ignore_index = True)"
   ]
  },
  {
   "cell_type": "code",
   "execution_count": 12,
   "id": "65ba946f-a863-4f16-8700-c198b442e67f",
   "metadata": {},
   "outputs": [],
   "source": [
    "all_countries = all_countries.drop([\"lon\",\"lat\",\"under_1000\"], axis=1)"
   ]
  },
  {
   "cell_type": "markdown",
   "id": "c6d82136-a6c4-4268-845e-8fd7fed26b28",
   "metadata": {},
   "source": [
    "### Get total"
   ]
  },
  {
   "cell_type": "code",
   "execution_count": 29,
   "id": "128a342d-f5e5-4ab8-8a16-631d98e43ee9",
   "metadata": {},
   "outputs": [],
   "source": [
    "totals = {\n",
    "    'date': [all_countries.date.max()],\n",
    "    'refugees': [all_countries.refugees.sum()],\n",
    "    'download_date': [all_countries.download_date.max()],\n",
    "}"
   ]
  },
  {
   "cell_type": "code",
   "execution_count": 32,
   "id": "be0cd5df-3676-43d8-93a4-b3a9a058081d",
   "metadata": {},
   "outputs": [],
   "source": [
    "total_df = pd.DataFrame.from_dict(totals)"
   ]
  },
  {
   "cell_type": "markdown",
   "id": "e9b0276e-87b4-445f-9a89-c3cc69afb546",
   "metadata": {},
   "source": [
    "### Export"
   ]
  },
  {
   "cell_type": "code",
   "execution_count": 13,
   "id": "131c0179-69ca-4762-9b8b-a5bb47e3a97c",
   "metadata": {},
   "outputs": [],
   "source": [
    "all_countries.to_csv(\"processed/latest.csv\", index=False)"
   ]
  },
  {
   "cell_type": "code",
   "execution_count": null,
   "id": "416c39e5-27ad-44aa-a932-9243c67375ec",
   "metadata": {},
   "outputs": [],
   "source": [
    "total_df.to_csv(f\"processed/total-{}.csv\", index=False)"
   ]
  }
 ],
 "metadata": {
  "kernelspec": {
   "display_name": "Python 3 (ipykernel)",
   "language": "python",
   "name": "python3"
  },
  "language_info": {
   "codemirror_mode": {
    "name": "ipython",
    "version": 3
   },
   "file_extension": ".py",
   "mimetype": "text/x-python",
   "name": "python",
   "nbconvert_exporter": "python",
   "pygments_lexer": "ipython3",
   "version": "3.9.6"
  }
 },
 "nbformat": 4,
 "nbformat_minor": 5
}
