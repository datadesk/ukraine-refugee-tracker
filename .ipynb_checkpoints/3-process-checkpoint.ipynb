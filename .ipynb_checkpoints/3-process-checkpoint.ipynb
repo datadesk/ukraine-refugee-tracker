{
 "cells": [
  {
   "cell_type": "code",
   "execution_count": 37,
   "id": "4605968c-3cc8-4e5d-9080-6bfd9f540b5f",
   "metadata": {},
   "outputs": [],
   "source": [
    "import pandas as pd"
   ]
  },
  {
   "cell_type": "code",
   "execution_count": 38,
   "id": "a830ad0d-b975-43b9-b54e-ec6b4cf54de2",
   "metadata": {},
   "outputs": [],
   "source": [
    "df = pd.read_csv(\"raw/latest.csv\", parse_dates=[\"date\",\"download_date\"])"
   ]
  },
  {
   "cell_type": "code",
   "execution_count": 39,
   "id": "ac21384b-37f6-4504-a830-1b83e0f1a358",
   "metadata": {},
   "outputs": [
    {
     "data": {
      "text/html": [
       "<div>\n",
       "<style scoped>\n",
       "    .dataframe tbody tr th:only-of-type {\n",
       "        vertical-align: middle;\n",
       "    }\n",
       "\n",
       "    .dataframe tbody tr th {\n",
       "        vertical-align: top;\n",
       "    }\n",
       "\n",
       "    .dataframe thead th {\n",
       "        text-align: right;\n",
       "    }\n",
       "</style>\n",
       "<table border=\"1\" class=\"dataframe\">\n",
       "  <thead>\n",
       "    <tr style=\"text-align: right;\">\n",
       "      <th></th>\n",
       "      <th>country</th>\n",
       "      <th>lon</th>\n",
       "      <th>lat</th>\n",
       "      <th>date</th>\n",
       "      <th>refugees</th>\n",
       "      <th>download_date</th>\n",
       "    </tr>\n",
       "  </thead>\n",
       "  <tbody>\n",
       "    <tr>\n",
       "      <th>0</th>\n",
       "      <td>Poland</td>\n",
       "      <td>19.401300</td>\n",
       "      <td>52.12240</td>\n",
       "      <td>2022-03-15</td>\n",
       "      <td>1830711</td>\n",
       "      <td>2022-03-15</td>\n",
       "    </tr>\n",
       "    <tr>\n",
       "      <th>1</th>\n",
       "      <td>Romania</td>\n",
       "      <td>25.300000</td>\n",
       "      <td>45.86670</td>\n",
       "      <td>2022-03-15</td>\n",
       "      <td>459485</td>\n",
       "      <td>2022-03-15</td>\n",
       "    </tr>\n",
       "    <tr>\n",
       "      <th>2</th>\n",
       "      <td>Republic of Moldova</td>\n",
       "      <td>28.464600</td>\n",
       "      <td>47.19760</td>\n",
       "      <td>2022-03-14</td>\n",
       "      <td>337215</td>\n",
       "      <td>2022-03-15</td>\n",
       "    </tr>\n",
       "    <tr>\n",
       "      <th>3</th>\n",
       "      <td>Hungary</td>\n",
       "      <td>19.413100</td>\n",
       "      <td>47.16720</td>\n",
       "      <td>2022-03-15</td>\n",
       "      <td>267570</td>\n",
       "      <td>2022-03-15</td>\n",
       "    </tr>\n",
       "    <tr>\n",
       "      <th>4</th>\n",
       "      <td>Slovakia</td>\n",
       "      <td>19.486400</td>\n",
       "      <td>48.70620</td>\n",
       "      <td>2022-03-14</td>\n",
       "      <td>213000</td>\n",
       "      <td>2022-03-15</td>\n",
       "    </tr>\n",
       "    <tr>\n",
       "      <th>5</th>\n",
       "      <td>Russian Federation</td>\n",
       "      <td>38.155608</td>\n",
       "      <td>51.48885</td>\n",
       "      <td>2022-03-14</td>\n",
       "      <td>142994</td>\n",
       "      <td>2022-03-15</td>\n",
       "    </tr>\n",
       "    <tr>\n",
       "      <th>6</th>\n",
       "      <td>Belarus</td>\n",
       "      <td>28.046300</td>\n",
       "      <td>53.53840</td>\n",
       "      <td>2022-03-14</td>\n",
       "      <td>1475</td>\n",
       "      <td>2022-03-15</td>\n",
       "    </tr>\n",
       "  </tbody>\n",
       "</table>\n",
       "</div>"
      ],
      "text/plain": [
       "               country        lon       lat       date  refugees download_date\n",
       "0               Poland  19.401300  52.12240 2022-03-15   1830711    2022-03-15\n",
       "1              Romania  25.300000  45.86670 2022-03-15    459485    2022-03-15\n",
       "2  Republic of Moldova  28.464600  47.19760 2022-03-14    337215    2022-03-15\n",
       "3              Hungary  19.413100  47.16720 2022-03-15    267570    2022-03-15\n",
       "4             Slovakia  19.486400  48.70620 2022-03-14    213000    2022-03-15\n",
       "5   Russian Federation  38.155608  51.48885 2022-03-14    142994    2022-03-15\n",
       "6              Belarus  28.046300  53.53840 2022-03-14      1475    2022-03-15"
      ]
     },
     "execution_count": 39,
     "metadata": {},
     "output_type": "execute_result"
    }
   ],
   "source": [
    "df"
   ]
  },
  {
   "cell_type": "code",
   "execution_count": 40,
   "id": "39f7e455-ebf4-4589-aa48-d35443ac0e66",
   "metadata": {},
   "outputs": [
    {
     "data": {
      "text/plain": [
       "3252450"
      ]
     },
     "execution_count": 40,
     "metadata": {},
     "output_type": "execute_result"
    }
   ],
   "source": [
    "df.refugees.sum()"
   ]
  },
  {
   "cell_type": "markdown",
   "id": "80c9f6b1-03c5-4985-a8ee-eacce0625b5c",
   "metadata": {},
   "source": [
    "### If refugee count smaller than 1,000, add to 'Other European countries' category"
   ]
  },
  {
   "cell_type": "code",
   "execution_count": 41,
   "id": "1f192bc0-7246-4de9-9584-f1a0ac9e45f3",
   "metadata": {},
   "outputs": [],
   "source": [
    "# df[\"under_1000\"] = \"\"\n",
    "# df.loc[df.refugees > 1000, \"under_1000\"] = True\n",
    "# df.loc[df.refugees < 1000, \"under_1000\"] = False"
   ]
  },
  {
   "cell_type": "code",
   "execution_count": 42,
   "id": "96a1fc1f-a3d3-4e11-8447-096d463d0bff",
   "metadata": {},
   "outputs": [],
   "source": [
    "# countries_under_1000_total = df[df.under_1000 == False].refugees.sum()"
   ]
  },
  {
   "cell_type": "code",
   "execution_count": 43,
   "id": "3c9928da-6e09-42c6-b429-5785f846bfda",
   "metadata": {},
   "outputs": [],
   "source": [
    "# other_total = df[df.country == \"Other European countries\"].refugees.sum()"
   ]
  },
  {
   "cell_type": "code",
   "execution_count": 44,
   "id": "43c70bdf-22cb-4902-aa94-b24470f5c405",
   "metadata": {},
   "outputs": [],
   "source": [
    "# all_countries = df[(df.under_1000 == True) & (df.country != \"Other European countries\")]"
   ]
  },
  {
   "cell_type": "code",
   "execution_count": 45,
   "id": "3bd48618-f777-4e08-bc30-080a374d06ca",
   "metadata": {},
   "outputs": [],
   "source": [
    "# other = {\n",
    "#     'country': 'Other European countries', \n",
    "#     'date': df[df.country == \"Other European countries\"].iloc[0][\"date\"],\n",
    "#     'refugees': countries_under_1000_total+other_total,\n",
    "#     'download_date': df[df.country == \"Other European countries\"].iloc[0][\"download_date\"],\n",
    "# }"
   ]
  },
  {
   "cell_type": "code",
   "execution_count": 46,
   "id": "6d7f3b45-c2c8-4941-8f23-36d2abfb6698",
   "metadata": {},
   "outputs": [],
   "source": [
    "# all_countries = all_countries.append(other, ignore_index = True)"
   ]
  },
  {
   "cell_type": "code",
   "execution_count": 47,
   "id": "65ba946f-a863-4f16-8700-c198b442e67f",
   "metadata": {},
   "outputs": [],
   "source": [
    "all_countries = df.drop([\"lon\",\"lat\"], axis=1)"
   ]
  },
  {
   "cell_type": "markdown",
   "id": "c6d82136-a6c4-4268-845e-8fd7fed26b28",
   "metadata": {},
   "source": [
    "### Get total"
   ]
  },
  {
   "cell_type": "code",
   "execution_count": 48,
   "id": "128a342d-f5e5-4ab8-8a16-631d98e43ee9",
   "metadata": {},
   "outputs": [],
   "source": [
    "totals = {\n",
    "    'date': [all_countries.date.max()],\n",
    "    'refugees': [all_countries.refugees.sum()],\n",
    "    'download_date': [all_countries.download_date.max()],\n",
    "}"
   ]
  },
  {
   "cell_type": "code",
   "execution_count": 49,
   "id": "be0cd5df-3676-43d8-93a4-b3a9a058081d",
   "metadata": {},
   "outputs": [],
   "source": [
    "total_df = pd.DataFrame.from_dict(totals)"
   ]
  },
  {
   "cell_type": "markdown",
   "id": "e9b0276e-87b4-445f-9a89-c3cc69afb546",
   "metadata": {},
   "source": [
    "### Export"
   ]
  },
  {
   "cell_type": "code",
   "execution_count": 50,
   "id": "131c0179-69ca-4762-9b8b-a5bb47e3a97c",
   "metadata": {},
   "outputs": [],
   "source": [
    "all_countries.to_csv(\"processed/latest.csv\", index=False)"
   ]
  },
  {
   "cell_type": "code",
   "execution_count": 51,
   "id": "416c39e5-27ad-44aa-a932-9243c67375ec",
   "metadata": {},
   "outputs": [],
   "source": [
    "total_df.to_csv(\"processed/total.csv\", index=False)"
   ]
  },
  {
   "cell_type": "code",
   "execution_count": 52,
   "id": "a6336626-9af1-4e28-8929-472689b984d6",
   "metadata": {},
   "outputs": [],
   "source": [
    "total_df.to_json('processed/total.json',orient='records',date_format='iso')"
   ]
  }
 ],
 "metadata": {
  "kernelspec": {
   "display_name": "Python 3 (ipykernel)",
   "language": "python",
   "name": "python3"
  },
  "language_info": {
   "codemirror_mode": {
    "name": "ipython",
    "version": 3
   },
   "file_extension": ".py",
   "mimetype": "text/x-python",
   "name": "python",
   "nbconvert_exporter": "python",
   "pygments_lexer": "ipython3",
   "version": "3.9.6"
  }
 },
 "nbformat": 4,
 "nbformat_minor": 5
}
