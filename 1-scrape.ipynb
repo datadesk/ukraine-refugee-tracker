{
 "cells": [
  {
   "cell_type": "code",
   "execution_count": 41,
   "id": "ff9e3967-d83f-4137-9327-f8db9622891c",
   "metadata": {},
   "outputs": [],
   "source": [
    "import pytz\n",
    "import json\n",
    "import requests\n",
    "import pandas as pd\n",
    "from datetime import datetime"
   ]
  },
  {
   "cell_type": "markdown",
   "id": "55a104e8-479b-4b45-8577-2c7d245de3d4",
   "metadata": {},
   "source": [
    "### Download latest data from U.N.\n",
    "src: https://data2.unhcr.org/en/situations/ukraine"
   ]
  },
  {
   "cell_type": "code",
   "execution_count": 42,
   "id": "f3e8383e-7268-4c6b-942c-1453132f0093",
   "metadata": {},
   "outputs": [],
   "source": [
    "url = 'https://data2.unhcr.org/population/get/sublocation?widget_id=283559&sv_id=54&population_group=5459,5460&forcesublocation=0&fromDate=1900-01-01'"
   ]
  },
  {
   "cell_type": "code",
   "execution_count": 43,
   "id": "c6b73d4e-b261-4896-b657-b8a17eb2c48e",
   "metadata": {},
   "outputs": [],
   "source": [
    "r = requests.get(url)"
   ]
  },
  {
   "cell_type": "code",
   "execution_count": 44,
   "id": "0b3f3260-41ac-4ab4-886d-06e7434945ea",
   "metadata": {},
   "outputs": [],
   "source": [
    "data = r.json()"
   ]
  },
  {
   "cell_type": "code",
   "execution_count": 45,
   "id": "8e3e81e7-6e69-498a-8020-9568749276dc",
   "metadata": {},
   "outputs": [],
   "source": [
    "dict_list = []\n",
    "for item in data['data']:\n",
    "    d = dict(\n",
    "        country=item[\"geomaster_name\"],\n",
    "        lon=item[\"centroid_lon\"],\n",
    "        lat=item[\"centroid_lat\"],\n",
    "        date=item[\"date\"],\n",
    "        refugees=item[\"individuals\"]\n",
    "    )\n",
    "    dict_list.append(d)"
   ]
  },
  {
   "cell_type": "code",
   "execution_count": 46,
   "id": "f1f30ca6-0b23-4259-bd62-f7cdfc78032f",
   "metadata": {},
   "outputs": [],
   "source": [
    "df = pd.DataFrame(dict_list)"
   ]
  },
  {
   "cell_type": "markdown",
   "id": "ededeeff-6f70-4ca8-a59b-d80dac0d74b5",
   "metadata": {},
   "source": [
    "### Append download date to dataframe"
   ]
  },
  {
   "cell_type": "code",
   "execution_count": 47,
   "id": "3c1a2af1-147c-4b6c-9d94-4aad10bc4f2c",
   "metadata": {},
   "outputs": [],
   "source": [
    "tz = pytz.timezone(\"America/Los_Angeles\")"
   ]
  },
  {
   "cell_type": "code",
   "execution_count": 48,
   "id": "f13f97d7-701f-462a-91b5-a11dffdfb38f",
   "metadata": {},
   "outputs": [
    {
     "data": {
      "text/plain": [
       "datetime.date(2022, 3, 4)"
      ]
     },
     "execution_count": 48,
     "metadata": {},
     "output_type": "execute_result"
    }
   ],
   "source": [
    "today = datetime.now(tz).date()\n",
    "today"
   ]
  },
  {
   "cell_type": "code",
   "execution_count": 49,
   "id": "9db56d91-fc3f-4d26-9d47-db8d66deaab1",
   "metadata": {},
   "outputs": [],
   "source": [
    "df[\"download_date\"] = today"
   ]
  },
  {
   "cell_type": "markdown",
   "id": "5f890d23-84ec-4926-ade2-769031a4259f",
   "metadata": {},
   "source": [
    "### Export latest data"
   ]
  },
  {
   "cell_type": "code",
   "execution_count": 50,
   "id": "da133f3e-94a6-479f-8d54-45310ba3b526",
   "metadata": {},
   "outputs": [],
   "source": [
    "df.to_csv(\"raw/latest.csv\", index=False)"
   ]
  },
  {
   "cell_type": "markdown",
   "id": "c46a960e-4e62-4075-b94e-7ab2c31b5101",
   "metadata": {},
   "source": [
    "### Export daily file"
   ]
  },
  {
   "cell_type": "code",
   "execution_count": 51,
   "id": "45efc892-39c7-4d0b-ab3b-1118844fbc0e",
   "metadata": {},
   "outputs": [],
   "source": [
    "df.to_csv(f\"raw/daily/{today}.csv\", index=False)"
   ]
  }
 ],
 "metadata": {
  "kernelspec": {
   "display_name": "Python 3 (ipykernel)",
   "language": "python",
   "name": "python3"
  },
  "language_info": {
   "codemirror_mode": {
    "name": "ipython",
    "version": 3
   },
   "file_extension": ".py",
   "mimetype": "text/x-python",
   "name": "python",
   "nbconvert_exporter": "python",
   "pygments_lexer": "ipython3",
   "version": "3.9.6"
  }
 },
 "nbformat": 4,
 "nbformat_minor": 5
}
